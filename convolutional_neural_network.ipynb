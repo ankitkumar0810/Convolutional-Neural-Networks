{
 "cells": [
  {
   "cell_type": "markdown",
   "metadata": {
    "id": "3DR-eO17geWu"
   },
   "source": [
    "# Convolutional Neural Network"
   ]
  },
  {
   "cell_type": "markdown",
   "metadata": {
    "id": "EMefrVPCg-60"
   },
   "source": [
    "### Importing the libraries"
   ]
  },
  {
   "cell_type": "code",
   "execution_count": 17,
   "metadata": {
    "id": "2fV2U7xre-vO"
   },
   "outputs": [],
   "source": [
    "import tensorflow as tf\n",
    "from keras.preprocessing.image import ImageDataGenerator"
   ]
  },
  {
   "cell_type": "code",
   "execution_count": 18,
   "metadata": {
    "colab": {
     "base_uri": "https://localhost:8080/",
     "height": 36
    },
    "id": "kH3_vPHhhPKa",
    "outputId": "1aa96c25-b961-4298-fed6-cf6eed90e4bd"
   },
   "outputs": [
    {
     "data": {
      "text/plain": [
       "'2.14.0'"
      ]
     },
     "execution_count": 18,
     "metadata": {},
     "output_type": "execute_result"
    }
   ],
   "source": [
    "tf.__version__"
   ]
  },
  {
   "cell_type": "markdown",
   "metadata": {
    "id": "oxQxCBWyoGPE"
   },
   "source": [
    "## Part 1 - Data Preprocessing"
   ]
  },
  {
   "cell_type": "markdown",
   "metadata": {
    "id": "MvE-heJNo3GG"
   },
   "source": [
    "### Preprocessing the Training set"
   ]
  },
  {
   "cell_type": "code",
   "execution_count": 19,
   "metadata": {
    "id": "D9cfpzV6hZXB"
   },
   "outputs": [
    {
     "name": "stdout",
     "output_type": "stream",
     "text": [
      "Found 8000 images belonging to 2 classes.\n"
     ]
    }
   ],
   "source": [
    "train_datagen = ImageDataGenerator(rescale=1./255,\n",
    "                                   shear_range=0.2,\n",
    "                                   zoom_range=0.2,\n",
    "                                   horizontal_flip=True)\n",
    "\n",
    "training_set = train_datagen.flow_from_directory('dataset/training_set',\n",
    "                                                 target_size = (64, 64),\n",
    "                                                 batch_size = 32,\n",
    "                                                 class_mode = 'binary')"
   ]
  },
  {
   "cell_type": "markdown",
   "metadata": {
    "id": "mrCMmGw9pHys"
   },
   "source": [
    "### Preprocessing the Test set"
   ]
  },
  {
   "cell_type": "code",
   "execution_count": 20,
   "metadata": {
    "id": "WEbX5ovekvvh"
   },
   "outputs": [
    {
     "name": "stdout",
     "output_type": "stream",
     "text": [
      "Found 2000 images belonging to 2 classes.\n"
     ]
    }
   ],
   "source": [
    "test_datagen = ImageDataGenerator(rescale = 1./255)\n",
    "test_set = test_datagen.flow_from_directory('dataset/test_set',\n",
    "                                            target_size = (64, 64),\n",
    "                                            batch_size = 32,\n",
    "                                            class_mode = 'binary')"
   ]
  },
  {
   "cell_type": "markdown",
   "metadata": {
    "id": "af8O4l90gk7B"
   },
   "source": [
    "## Part 2 - Building the CNN"
   ]
  },
  {
   "cell_type": "markdown",
   "metadata": {
    "id": "ces1gXY2lmoX"
   },
   "source": [
    "### Initialising the CNN"
   ]
  },
  {
   "cell_type": "code",
   "execution_count": 21,
   "metadata": {
    "id": "7z7WGldQkxp6"
   },
   "outputs": [],
   "source": [
    "cnn = tf.keras.models.Sequential()"
   ]
  },
  {
   "cell_type": "markdown",
   "metadata": {
    "id": "u5YJj_XMl5LF"
   },
   "source": [
    "### Step 1 - Convolution"
   ]
  },
  {
   "cell_type": "code",
   "execution_count": 22,
   "metadata": {
    "id": "xN_FBIIEk-sd"
   },
   "outputs": [],
   "source": [
    "cnn.add(tf.keras.layers.Conv2D(filters=32, kernel_size=3, activation='relu', input_shape=[64, 64, 3]))"
   ]
  },
  {
   "cell_type": "markdown",
   "metadata": {
    "id": "tf87FpvxmNOJ"
   },
   "source": [
    "### Step 2 - Pooling"
   ]
  },
  {
   "cell_type": "code",
   "execution_count": 23,
   "metadata": {
    "id": "Hg-pLbqtnNVM"
   },
   "outputs": [],
   "source": [
    "cnn.add(tf.keras.layers.MaxPool2D(pool_size=2, strides=2))"
   ]
  },
  {
   "cell_type": "markdown",
   "metadata": {
    "id": "xaTOgD8rm4mU"
   },
   "source": [
    "### Adding a second convolutional layer"
   ]
  },
  {
   "cell_type": "code",
   "execution_count": 24,
   "metadata": {
    "id": "cuBZHN9-nu1W"
   },
   "outputs": [],
   "source": [
    "cnn.add(tf.keras.layers.Conv2D(filters=32, kernel_size=3, activation='relu'))\n",
    "cnn.add(tf.keras.layers.MaxPool2D(pool_size=2, strides=2))"
   ]
  },
  {
   "cell_type": "markdown",
   "metadata": {
    "id": "tmiEuvTunKfk"
   },
   "source": [
    "### Step 3 - Flattening"
   ]
  },
  {
   "cell_type": "code",
   "execution_count": 25,
   "metadata": {
    "id": "FOCKrUgwn3TO"
   },
   "outputs": [],
   "source": [
    "cnn.add(tf.keras.layers.Flatten())"
   ]
  },
  {
   "cell_type": "markdown",
   "metadata": {
    "id": "dAoSECOm203v"
   },
   "source": [
    "### Step 4 - Full Connection"
   ]
  },
  {
   "cell_type": "code",
   "execution_count": 26,
   "metadata": {
    "id": "XniNfAgWoCkb"
   },
   "outputs": [],
   "source": [
    "cnn.add(tf.keras.layers.Dense(units=128, activation='relu'))"
   ]
  },
  {
   "cell_type": "markdown",
   "metadata": {
    "id": "yTldFvbX28Na"
   },
   "source": [
    "### Step 5 - Output Layer"
   ]
  },
  {
   "cell_type": "code",
   "execution_count": 27,
   "metadata": {
    "id": "Gmk36b3GoDue"
   },
   "outputs": [],
   "source": [
    "cnn.add(tf.keras.layers.Dense(units=1, activation='sigmoid'))"
   ]
  },
  {
   "cell_type": "markdown",
   "metadata": {
    "id": "D6XkI90snSDl"
   },
   "source": [
    "## Part 3 - Training the CNN"
   ]
  },
  {
   "cell_type": "markdown",
   "metadata": {
    "id": "vfrFQACEnc6i"
   },
   "source": [
    "### Compiling the CNN"
   ]
  },
  {
   "cell_type": "code",
   "execution_count": 28,
   "metadata": {
    "id": "bMF_rteGoLt8"
   },
   "outputs": [],
   "source": [
    "cnn.compile(optimizer = 'adam', loss = 'binary_crossentropy', metrics = ['accuracy'])"
   ]
  },
  {
   "cell_type": "markdown",
   "metadata": {
    "id": "ehS-v3MIpX2h"
   },
   "source": [
    "### Training the CNN on the Training set and evaluating it on the Test set"
   ]
  },
  {
   "cell_type": "code",
   "execution_count": 30,
   "metadata": {
    "id": "zcMdEIdLoriJ"
   },
   "outputs": [
    {
     "name": "stdout",
     "output_type": "stream",
     "text": [
      "Epoch 1/25\n",
      "250/250 [==============================] - 189s 737ms/step - loss: 0.6865 - accuracy: 0.5567 - val_loss: 0.6794 - val_accuracy: 0.5570\n",
      "Epoch 2/25\n",
      "250/250 [==============================] - 49s 196ms/step - loss: 0.6356 - accuracy: 0.6405 - val_loss: 0.7004 - val_accuracy: 0.5880\n",
      "Epoch 3/25\n",
      "250/250 [==============================] - 48s 192ms/step - loss: 0.5860 - accuracy: 0.6963 - val_loss: 0.5402 - val_accuracy: 0.7360\n",
      "Epoch 4/25\n",
      "250/250 [==============================] - 48s 192ms/step - loss: 0.5423 - accuracy: 0.7258 - val_loss: 0.5084 - val_accuracy: 0.7535\n",
      "Epoch 5/25\n",
      "250/250 [==============================] - 48s 190ms/step - loss: 0.5174 - accuracy: 0.7429 - val_loss: 0.5020 - val_accuracy: 0.7535\n",
      "Epoch 6/25\n",
      "250/250 [==============================] - 48s 190ms/step - loss: 0.4971 - accuracy: 0.7600 - val_loss: 0.4940 - val_accuracy: 0.7585\n",
      "Epoch 7/25\n",
      "250/250 [==============================] - 48s 192ms/step - loss: 0.4793 - accuracy: 0.7648 - val_loss: 0.5190 - val_accuracy: 0.7410\n",
      "Epoch 8/25\n",
      "250/250 [==============================] - 48s 191ms/step - loss: 0.4698 - accuracy: 0.7744 - val_loss: 0.4548 - val_accuracy: 0.7880\n",
      "Epoch 9/25\n",
      "250/250 [==============================] - 48s 191ms/step - loss: 0.4553 - accuracy: 0.7857 - val_loss: 0.4673 - val_accuracy: 0.7815\n",
      "Epoch 10/25\n",
      "250/250 [==============================] - 48s 193ms/step - loss: 0.4386 - accuracy: 0.7928 - val_loss: 0.4955 - val_accuracy: 0.7790\n",
      "Epoch 11/25\n",
      "250/250 [==============================] - 48s 190ms/step - loss: 0.4306 - accuracy: 0.7993 - val_loss: 0.4476 - val_accuracy: 0.7880\n",
      "Epoch 12/25\n",
      "250/250 [==============================] - 48s 190ms/step - loss: 0.4153 - accuracy: 0.8080 - val_loss: 0.4644 - val_accuracy: 0.7760\n",
      "Epoch 13/25\n",
      "250/250 [==============================] - 48s 191ms/step - loss: 0.4088 - accuracy: 0.8116 - val_loss: 0.4412 - val_accuracy: 0.8045\n",
      "Epoch 14/25\n",
      "250/250 [==============================] - 48s 192ms/step - loss: 0.3966 - accuracy: 0.8215 - val_loss: 0.4358 - val_accuracy: 0.8005\n",
      "Epoch 15/25\n",
      "250/250 [==============================] - 48s 190ms/step - loss: 0.3929 - accuracy: 0.8201 - val_loss: 0.4887 - val_accuracy: 0.7765\n",
      "Epoch 16/25\n",
      "250/250 [==============================] - 48s 192ms/step - loss: 0.3797 - accuracy: 0.8304 - val_loss: 0.4354 - val_accuracy: 0.7990\n",
      "Epoch 17/25\n",
      "250/250 [==============================] - 49s 195ms/step - loss: 0.3774 - accuracy: 0.8299 - val_loss: 0.4567 - val_accuracy: 0.7975\n",
      "Epoch 18/25\n",
      "250/250 [==============================] - 48s 191ms/step - loss: 0.3695 - accuracy: 0.8351 - val_loss: 0.4389 - val_accuracy: 0.8090\n",
      "Epoch 19/25\n",
      "250/250 [==============================] - 48s 192ms/step - loss: 0.3543 - accuracy: 0.8426 - val_loss: 0.4469 - val_accuracy: 0.8060\n",
      "Epoch 20/25\n",
      "250/250 [==============================] - 48s 194ms/step - loss: 0.3551 - accuracy: 0.8456 - val_loss: 0.4517 - val_accuracy: 0.7980\n",
      "Epoch 21/25\n",
      "250/250 [==============================] - 48s 191ms/step - loss: 0.3384 - accuracy: 0.8489 - val_loss: 0.4888 - val_accuracy: 0.7885\n",
      "Epoch 22/25\n",
      "250/250 [==============================] - 47s 190ms/step - loss: 0.3298 - accuracy: 0.8561 - val_loss: 0.4551 - val_accuracy: 0.8025\n",
      "Epoch 23/25\n",
      "250/250 [==============================] - 48s 190ms/step - loss: 0.3240 - accuracy: 0.8560 - val_loss: 0.4465 - val_accuracy: 0.8075\n",
      "Epoch 24/25\n",
      "250/250 [==============================] - 48s 192ms/step - loss: 0.3171 - accuracy: 0.8649 - val_loss: 0.5157 - val_accuracy: 0.7900\n",
      "Epoch 25/25\n",
      "250/250 [==============================] - 48s 192ms/step - loss: 0.3104 - accuracy: 0.8687 - val_loss: 0.4901 - val_accuracy: 0.8025\n"
     ]
    },
    {
     "data": {
      "text/plain": [
       "<keras.src.callbacks.History at 0x2309088add0>"
      ]
     },
     "execution_count": 30,
     "metadata": {},
     "output_type": "execute_result"
    }
   ],
   "source": [
    "cnn.fit(x = training_set, validation_data = test_set, epochs = 25)"
   ]
  },
  {
   "cell_type": "markdown",
   "metadata": {
    "id": "U3PZasO0006Z"
   },
   "source": [
    "## Part 4 - Making a single prediction"
   ]
  },
  {
   "cell_type": "code",
   "execution_count": 43,
   "metadata": {
    "id": "1jCMMOLyp-Nk"
   },
   "outputs": [
    {
     "name": "stdout",
     "output_type": "stream",
     "text": [
      "1/1 [==============================] - 0s 21ms/step\n"
     ]
    }
   ],
   "source": [
    "import numpy as np\n",
    "from keras.preprocessing import image\n",
    "test_image = image.load_img('dataset/single_prediction/cat_or_dog_5.jpg', target_size = (64, 64))\n",
    "test_image = image.img_to_array(test_image)\n",
    "test_image = np.expand_dims(test_image, axis = 0)\n",
    "result = cnn.predict(test_image)\n",
    "training_set.class_indices\n",
    "if result[0][0] == 1:\n",
    "  prediction = 'dog'\n",
    "else:\n",
    "  prediction = 'cat'"
   ]
  },
  {
   "cell_type": "code",
   "execution_count": 44,
   "metadata": {},
   "outputs": [
    {
     "name": "stdout",
     "output_type": "stream",
     "text": [
      "{'cats': 0, 'dogs': 1}\n"
     ]
    }
   ],
   "source": [
    "print(training_set.class_indices)"
   ]
  },
  {
   "cell_type": "code",
   "execution_count": 45,
   "metadata": {
    "id": "ucDUmOfdr5YT"
   },
   "outputs": [
    {
     "name": "stdout",
     "output_type": "stream",
     "text": [
      "dog\n"
     ]
    }
   ],
   "source": [
    "print(prediction)"
   ]
  }
 ],
 "metadata": {
  "colab": {
   "provenance": [],
   "toc_visible": true
  },
  "kernelspec": {
   "display_name": "Python 3 (ipykernel)",
   "language": "python",
   "name": "python3"
  },
  "language_info": {
   "codemirror_mode": {
    "name": "ipython",
    "version": 3
   },
   "file_extension": ".py",
   "mimetype": "text/x-python",
   "name": "python",
   "nbconvert_exporter": "python",
   "pygments_lexer": "ipython3",
   "version": "3.11.5"
  }
 },
 "nbformat": 4,
 "nbformat_minor": 1
}
